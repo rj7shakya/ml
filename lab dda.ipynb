{
 "cells": [
  {
   "cell_type": "code",
   "execution_count": 2,
   "metadata": {},
   "outputs": [
    {
     "name": "stdout",
     "output_type": "stream",
     "text": [
      "enter a number x1:23\n",
      "enter a number y1:23\n",
      "enter a number x2:44\n",
      "enter a number y2:44\n"
     ]
    }
   ],
   "source": [
    "x1 = int(input(\"enter a number x1:\"))\n",
    "y1 = int(input(\"enter a number y1:\"))\n",
    "x2 = int(input(\"enter a number x2:\"))\n",
    "y2 = int(input(\"enter a number y2:\"))\n"
   ]
  },
  {
   "cell_type": "code",
   "execution_count": 3,
   "metadata": {
    "scrolled": true
   },
   "outputs": [
    {
     "name": "stdout",
     "output_type": "stream",
     "text": [
      "1.0 1.0 21\n"
     ]
    }
   ],
   "source": [
    "length = 0\n",
    "if (x2-x1)  > (y2-y1):\n",
    "    length = (x2-x1) \n",
    "else:\n",
    "    length=(y2-y1)\n",
    "dx = (x2-x1)/float(length)\n",
    "dy = (y2-y1)/float(length)\n",
    "\n",
    "if (length<0):\n",
    "    dx =-dx\n",
    "    dy =-dy\n",
    "    \n",
    "print(dx,dy,length)\n",
    "\n",
    "a=[]\n",
    "b=[]\n",
    "\n",
    "for i in range(int(abs(length))):\n",
    "#     print(i)\n",
    "    x1+= dx\n",
    "    y1+= dy\n",
    "    a.append(x1)\n",
    "    b.append(y1)\n",
    "    "
   ]
  },
  {
   "cell_type": "code",
   "execution_count": 4,
   "metadata": {},
   "outputs": [
    {
     "data": {
      "text/plain": [
       "[<matplotlib.lines.Line2D at 0x7efe0327ee10>]"
      ]
     },
     "execution_count": 4,
     "metadata": {},
     "output_type": "execute_result"
    },
    {
     "data": {
      "image/png": "[encoded data removed]",
      "text/plain": [
       "<Figure size 432x288 with 1 Axes>"
      ]
     },
     "metadata": {},
     "output_type": "display_data"
    }
   ],
   "source": [
    "import matplotlib.pyplot as plt\n",
    "%matplotlib inline\n",
    "plt.plot(a,b,marker='o',lw=2)"
   ]
  },
  {
   "cell_type": "markdown",
   "metadata": {},
   "source": [
    "# bresham algorithm\n"
   ]
  },
  {
   "cell_type": "code",
   "execution_count": 6,
   "metadata": {},
   "outputs": [
    {
     "name": "stdout",
     "output_type": "stream",
     "text": [
      "enter a number x1:11\n",
      "enter a number y1:11\n",
      "enter a number x2:33\n",
      "enter a number y2:33\n"
     ]
    }
   ],
   "source": [
    "x1 = int(input(\"enter a number x1:\"))\n",
    "y1 = int(input(\"enter a number y1:\"))\n",
    "x2 = int(input(\"enter a number x2:\"))\n",
    "y2 = int(input(\"enter a number y2:\"))\n"
   ]
  },
  {
   "cell_type": "code",
   "execution_count": 7,
   "metadata": {},
   "outputs": [
    {
     "name": "stdout",
     "output_type": "stream",
     "text": [
      "22 22 22\n"
     ]
    },
    {
     "data": {
      "text/plain": [
       "[12,\n",
       " 13,\n",
       " 14,\n",
       " 15,\n",
       " 16,\n",
       " 17,\n",
       " 18,\n",
       " 19,\n",
       " 20,\n",
       " 21,\n",
       " 22,\n",
       " 23,\n",
       " 24,\n",
       " 25,\n",
       " 26,\n",
       " 27,\n",
       " 28,\n",
       " 29,\n",
       " 30,\n",
       " 31,\n",
       " 32,\n",
       " 33]"
      ]
     },
     "execution_count": 7,
     "metadata": {},
     "output_type": "execute_result"
    }
   ],
   "source": [
    "dy = y2-y1\n",
    "dx= x2-x1\n",
    "p = 2*dy-dx\n",
    "if (x2-x1)  > (y2-y1):\n",
    "    length = (x2-x1) \n",
    "else:\n",
    "    length=(y2-y1)\n",
    "    \n",
    "print(dx,dy,length)\n",
    "\n",
    "a=[]\n",
    "b=[]\n",
    "\n",
    "while(length >0):\n",
    "    if(p>=0):\n",
    "        y1 = y1+1\n",
    "        p+=2*dy-2*dx\n",
    "    else:\n",
    "        p+=2*dy\n",
    "    \n",
    "      \n",
    "    x1=x1+1\n",
    "    a.append(x1)\n",
    "    b.append(y1)\n",
    "    \n",
    "    length=length-1\n",
    "\n",
    "a"
   ]
  },
  {
   "cell_type": "code",
   "execution_count": 8,
   "metadata": {},
   "outputs": [
    {
     "data": {
      "text/plain": [
       "[<matplotlib.lines.Line2D at 0x7efe031bda58>]"
      ]
     },
     "execution_count": 8,
     "metadata": {},
     "output_type": "execute_result"
    },
    {
     "data": {
      "image/png": "[encoded data removed]",
      "text/plain": [
       "<Figure size 432x288 with 1 Axes>"
      ]
     },
     "metadata": {},
     "output_type": "display_data"
    }
   ],
   "source": [
    "plt.plot(a,b,marker='o',lw=2)"
   ]
  },
  {
   "cell_type": "markdown",
   "metadata": {},
   "source": [
    "# mid point circle algorithm\n"
   ]
  },
  {
   "cell_type": "code",
   "execution_count": 9,
   "metadata": {},
   "outputs": [
    {
     "name": "stdout",
     "output_type": "stream",
     "text": [
      "enter a number x:23\n",
      "enter a number y:23\n",
      "enter a number r:34\n"
     ]
    }
   ],
   "source": [
    "xc = int(input(\"enter a number x:\"))\n",
    "yc = int(input(\"enter a number y:\"))\n",
    "r = int(input(\"enter a number r:\"))"
   ]
  },
  {
   "cell_type": "code",
   "execution_count": 18,
   "metadata": {},
   "outputs": [
    {
     "name": "stdout",
     "output_type": "stream",
     "text": [
      "[24, 57, 22, -11, 22, -11, 24, 57, 25, 57, 21, -11, 21, -11, 25, 57, 26, 57, 20, -11, 20, -11, 26, 57, 27, 57, 19, -11, 19, -11, 27, 57, 28, 57, 18, -11, 18, -11, 28, 57, 29, 56, 17, -10, 17, -10, 29, 56, 30, 56, 16, -10, 16, -10, 30, 56, 31, 56, 15, -10, 15, -10, 31, 56, 32, 56, 14, -10, 14, -10, 32, 56, 33, 55, 13, -9, 13, -9, 33, 55, 34, 55, 12, -9, 12, -9, 34, 55, 35, 55, 11, -9, 11, -9, 35, 55, 36, 54, 10, -8, 10, -8, 36, 54, 37, 54, 9, -8, 9, -8, 37, 54, 38, 54, 8, -8, 8, -8, 38, 54, 39, 53, 7, -7, 7, -7, 39, 53, 40, 52, 6, -6, 6, -6, 40, 52, 41, 52, 5, -6, 5, -6, 41, 52, 42, 51, 4, -5, 4, -5, 42, 51, 43, 50, 3, -4, 3, -4, 43, 50, 44, 50, 2, -4, 2, -4, 44, 50, 45, 49, 1, -3, 1, -3, 45, 49, 46, 48, 0, -2, 0, -2, 46, 48, 47, 47, -1, -1, -1, -1, 47, 47]\n"
     ]
    }
   ],
   "source": [
    "p = 1-r\n",
    "a=[]\n",
    "b=[]\n",
    "x=0\n",
    "y=r\n",
    "\n",
    "while(x<y):\n",
    "    if(p<0):\n",
    "        x=x+1\n",
    "        y=y\n",
    "        p+=2*x+1\n",
    "    else:\n",
    "        x=x+1\n",
    "        y=y-1\n",
    "        p+=2*x-2*y+1\n",
    "    a.append(xc+x)\n",
    "    b.append(yc+y)\n",
    "    a.append(xc+y)\n",
    "    b.append(yc+x)\n",
    "    \n",
    "    a.append(xc-x)\n",
    "    b.append(yc+y)\n",
    "    a.append(xc-y)\n",
    "    b.append(yc+x)\n",
    "    \n",
    "    a.append(xc-x)\n",
    "    b.append(yc-y)\n",
    "    a.append(xc-y)\n",
    "    b.append(yc-x)\n",
    "    \n",
    "    a.append(xc+x)\n",
    "    b.append(yc-y)\n",
    "    a.append(xc+y)\n",
    "    b.append(yc-x)\n",
    "\n",
    "print(a)"
   ]
  },
  {
   "cell_type": "code",
   "execution_count": 19,
   "metadata": {},
   "outputs": [
    {
     "data": {
      "text/plain": [
       "<matplotlib.collections.PathCollection at 0x7efe0302a048>"
      ]
     },
     "execution_count": 19,
     "metadata": {},
     "output_type": "execute_result"
    },
    {
     "data": {
      "image/png": "[encoded data removed]",
      "text/plain": [
       "<Figure size 432x288 with 1 Axes>"
      ]
     },
     "metadata": {},
     "output_type": "display_data"
    }
   ],
   "source": [
    "import matplotlib.pyplot as plt\n",
    "%matplotlib inline\n",
    "plt.scatter(a,b,marker='o')"
   ]
  },
  {
   "cell_type": "code",
   "execution_count": null,
   "metadata": {},
   "outputs": [],
   "source": []
  },
  {
   "cell_type": "code",
   "execution_count": null,
   "metadata": {},
   "outputs": [],
   "source": []
  },
  {
   "cell_type": "code",
   "execution_count": null,
   "metadata": {},
   "outputs": [],
   "source": []
  }
 ],
 "metadata": {
  "kernelspec": {
   "display_name": "Python 3",
   "language": "python",
   "name": "python3"
  },
  "language_info": {
   "codemirror_mode": {
    "name": "ipython",
    "version": 3
   },
   "file_extension": ".py",
   "mimetype": "text/x-python",
   "name": "python",
   "nbconvert_exporter": "python",
   "pygments_lexer": "ipython3",
   "version": "3.6.5"
  }
 },
 "nbformat": 4,
 "nbformat_minor": 2
}
