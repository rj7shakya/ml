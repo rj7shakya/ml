{
 "cells": [
  {
   "cell_type": "code",
   "execution_count": 1,
   "metadata": {},
   "outputs": [],
   "source": [
    "import numpy as np\n",
    "import matplotlib.pyplot as plt"
   ]
  },
  {
   "cell_type": "code",
   "execution_count": 2,
   "metadata": {},
   "outputs": [],
   "source": [
    "def draw(x1,x2):\n",
    "    ln = plt.plot(x1,x2)\n",
    "    \n",
    "    \n",
    "def sigmoid(score):\n",
    "    return 1/(1+np.exp(-score))\n",
    "\n",
    "def calculate_error(line_parameters,points,y):\n",
    "    m=points.shape[0]\n",
    "    p = sigmoid(points*line_parameters)\n",
    "    cross_entropy = 1/m*(np.log(p).T*y + np.log(1-p).T*(1-y))\n",
    "    return cross_entropy\n",
    "\n",
    "def gradient_descent(line_parameters,points,y,alpha):\n",
    "    m = points.shape[0]\n",
    "    for i in range(2000):\n",
    "        p = sigmoid(points*line_parameters)\n",
    "        gradient = (points.T*(p-y)*(alpha/m))\n",
    "        line_parameters = line_parameters-gradient\n",
    "        w1 = line_parameters.item(0)\n",
    "        w2 = line_parameters.item(1)\n",
    "        b = line_parameters.item(2)\n",
    "        x1 = np.array([points[:,0].min(),points[:,0].max()])\n",
    "        x2 = ((- b / w2) + x1 * (- w1 / w2))\n",
    "    draw(x1,x2)  "
   ]
  },
  {
   "cell_type": "code",
   "execution_count": 3,
   "metadata": {},
   "outputs": [],
   "source": [
    "n_pts=100\n",
    "np.random.seed(0)\n",
    "bias = np.ones(n_pts)\n",
    "top_region = np.array([np.random.normal(10,2,n_pts)\n",
    "                       ,np.random.normal(12,2,n_pts),bias]).T\n",
    "bottom_region = np.array([np.random.normal(5,2,n_pts)\n",
    "                       ,np.random.normal(6,2,n_pts),bias]).T\n",
    "all_points = np.vstack((top_region,bottom_region))\n",
    "\n",
    "# w1 = -0.1\n",
    "# w2 = -0.15\n",
    "# b = 0\n",
    "line_parameters = np.matrix([np.zeros(3)]).T\n",
    "# x1 = np.array([bottom_region[:,0].min(),top_region[:,0].max()])\n",
    "# x2 = ((- b / w2) + x1 * (- w1 / w2))\n",
    "\n",
    "# print(x1,x2,all_points.shape,line_parameters.shape)\n",
    "# linear_combination = all_points*line_parameters\n",
    "# probabilities = sigmoid(linear_combination)\n",
    "# print(probabilities)\n",
    "y=np.array([np.zeros(n_pts),np.ones(n_pts)]).reshape(n_pts*2,1)\n"
   ]
  },
  {
   "cell_type": "code",
   "execution_count": 4,
   "metadata": {},
   "outputs": [
    {
     "data": {
      "image/png": "[encoded data removed]",
      "text/plain": [
       "<Figure size 288x288 with 1 Axes>"
      ]
     },
     "metadata": {},
     "output_type": "display_data"
    }
   ],
   "source": [
    "_,ax = plt.subplots(figsize=(4,4))\n",
    "ax.scatter(top_region[:,0],top_region[:,1],color='r')\n",
    "ax.scatter(bottom_region[:,0],bottom_region[:,1],color='b')\n",
    "# draw(x1,x2)\n",
    "gradient_descent(line_parameters,all_points,y,0.06)\n",
    "plt.show()"
   ]
  },
  {
   "cell_type": "code",
   "execution_count": 5,
   "metadata": {},
   "outputs": [
    {
     "data": {
      "text/plain": [
       "matrix([[-0.69314718]])"
      ]
     },
     "execution_count": 5,
     "metadata": {},
     "output_type": "execute_result"
    }
   ],
   "source": [
    "calculate_error(line_parameters,all_points,y)"
   ]
  },
  {
   "cell_type": "markdown",
   "metadata": {},
   "source": [
    "# see keras before this"
   ]
  },
  {
   "cell_type": "markdown",
   "metadata": {},
   "source": [
    "# deep neural network"
   ]
  },
  {
   "cell_type": "code",
   "execution_count": 6,
   "metadata": {},
   "outputs": [
    {
     "name": "stderr",
     "output_type": "stream",
     "text": [
      "/home/rj/anaconda3/lib/python3.6/site-packages/h5py/__init__.py:36: FutureWarning: Conversion of the second argument of issubdtype from `float` to `np.floating` is deprecated. In future, it will be treated as `np.float64 == np.dtype(float).type`.\n",
      "  from ._conv import register_converters as _register_converters\n",
      "Using TensorFlow backend.\n"
     ]
    }
   ],
   "source": [
    "import numpy as np\n",
    "import matplotlib.pyplot as plt \n",
    "from sklearn import datasets\n",
    "\n",
    "from keras.models import Sequential\n",
    "from keras.layers import Dense\n",
    "from keras.optimizers import Adam"
   ]
  },
  {
   "cell_type": "code",
   "execution_count": 7,
   "metadata": {},
   "outputs": [],
   "source": [
    "np.random.seed(0)"
   ]
  },
  {
   "cell_type": "code",
   "execution_count": 8,
   "metadata": {},
   "outputs": [],
   "source": [
    "n_pts = 500\n",
    "X,y = datasets.make_circles(n_samples=n_pts,random_state=123\n",
    "                            ,noise=0.1,factor=0.2)\n"
   ]
  },
  {
   "cell_type": "code",
   "execution_count": 9,
   "metadata": {},
   "outputs": [
    {
     "data": {
      "text/plain": [
       "<matplotlib.collections.PathCollection at 0x7f2c221eebe0>"
      ]
     },
     "execution_count": 9,
     "metadata": {},
     "output_type": "execute_result"
    },
    {
     "data": {
      "image/png": "[encoded data removed]",
      "text/plain": [
       "<Figure size 432x288 with 1 Axes>"
      ]
     },
     "metadata": {},
     "output_type": "display_data"
    }
   ],
   "source": [
    "plt.scatter(X[y==0,0],X[y==0,1])\n",
    "plt.scatter(X[y==1,0],X[y==1,1])"
   ]
  },
  {
   "cell_type": "code",
   "execution_count": 10,
   "metadata": {},
   "outputs": [],
   "source": [
    "model = Sequential()\n",
    "model.add(Dense(4,input_shape=(2,),activation='sigmoid'))\n",
    "model.add(Dense(1,activation='sigmoid'))\n",
    "model.compile(Adam(lr=0.01),'binary_crossentropy',\n",
    "             metrics=['accuracy'])"
   ]
  },
  {
   "cell_type": "code",
   "execution_count": 11,
   "metadata": {},
   "outputs": [
    {
     "name": "stdout",
     "output_type": "stream",
     "text": [
      "Epoch 1/100\n",
      "500/500 [==============================] - 0s 774us/step - loss: 0.6960 - acc: 0.5100\n",
      "Epoch 2/100\n",
      "500/500 [==============================] - 0s 126us/step - loss: 0.6937 - acc: 0.6200\n",
      "Epoch 3/100\n",
      "500/500 [==============================] - 0s 114us/step - loss: 0.6926 - acc: 0.5140\n",
      "Epoch 4/100\n",
      "500/500 [==============================] - 0s 119us/step - loss: 0.6916 - acc: 0.6780\n",
      "Epoch 5/100\n",
      "500/500 [==============================] - 0s 110us/step - loss: 0.6905 - acc: 0.6320\n",
      "Epoch 6/100\n",
      "500/500 [==============================] - 0s 117us/step - loss: 0.6890 - acc: 0.3640\n",
      "Epoch 7/100\n",
      "500/500 [==============================] - 0s 145us/step - loss: 0.6865 - acc: 0.6460\n",
      "Epoch 8/100\n",
      "500/500 [==============================] - 0s 111us/step - loss: 0.6838 - acc: 0.6740\n",
      "Epoch 9/100\n",
      "500/500 [==============================] - 0s 105us/step - loss: 0.6796 - acc: 0.7580\n",
      "Epoch 10/100\n",
      "500/500 [==============================] - 0s 105us/step - loss: 0.6734 - acc: 0.7980\n",
      "Epoch 11/100\n",
      "500/500 [==============================] - 0s 124us/step - loss: 0.6659 - acc: 0.8380\n",
      "Epoch 12/100\n",
      "500/500 [==============================] - 0s 109us/step - loss: 0.6548 - acc: 0.8600\n",
      "Epoch 13/100\n",
      "500/500 [==============================] - 0s 127us/step - loss: 0.6421 - acc: 0.8780\n",
      "Epoch 14/100\n",
      "500/500 [==============================] - 0s 101us/step - loss: 0.6270 - acc: 0.8920\n",
      "Epoch 15/100\n",
      "500/500 [==============================] - 0s 107us/step - loss: 0.6078 - acc: 0.8800\n",
      "Epoch 16/100\n",
      "500/500 [==============================] - 0s 108us/step - loss: 0.5884 - acc: 0.8700\n",
      "Epoch 17/100\n",
      "500/500 [==============================] - 0s 137us/step - loss: 0.5677 - acc: 0.8860\n",
      "Epoch 18/100\n",
      "500/500 [==============================] - 0s 123us/step - loss: 0.5444 - acc: 0.8560\n",
      "Epoch 19/100\n",
      "500/500 [==============================] - 0s 106us/step - loss: 0.5222 - acc: 0.8860\n",
      "Epoch 20/100\n",
      "500/500 [==============================] - 0s 122us/step - loss: 0.4978 - acc: 0.8880\n",
      "Epoch 21/100\n",
      "500/500 [==============================] - 0s 97us/step - loss: 0.4754 - acc: 0.8880\n",
      "Epoch 22/100\n",
      "500/500 [==============================] - 0s 107us/step - loss: 0.4526 - acc: 0.8920\n",
      "Epoch 23/100\n",
      "500/500 [==============================] - 0s 120us/step - loss: 0.4304 - acc: 0.8920\n",
      "Epoch 24/100\n",
      "500/500 [==============================] - 0s 95us/step - loss: 0.4096 - acc: 0.9040\n",
      "Epoch 25/100\n",
      "500/500 [==============================] - 0s 121us/step - loss: 0.3901 - acc: 0.9000\n",
      "Epoch 26/100\n",
      "500/500 [==============================] - 0s 99us/step - loss: 0.3704 - acc: 0.9140\n",
      "Epoch 27/100\n",
      "500/500 [==============================] - 0s 130us/step - loss: 0.3519 - acc: 0.9100\n",
      "Epoch 28/100\n",
      "500/500 [==============================] - 0s 108us/step - loss: 0.3347 - acc: 0.9160\n",
      "Epoch 29/100\n",
      "500/500 [==============================] - 0s 157us/step - loss: 0.3179 - acc: 0.9180\n",
      "Epoch 30/100\n",
      "500/500 [==============================] - 0s 115us/step - loss: 0.3024 - acc: 0.9220\n",
      "Epoch 31/100\n",
      "500/500 [==============================] - 0s 101us/step - loss: 0.2874 - acc: 0.9240\n",
      "Epoch 32/100\n",
      "500/500 [==============================] - 0s 127us/step - loss: 0.2737 - acc: 0.9320\n",
      "Epoch 33/100\n",
      "500/500 [==============================] - 0s 108us/step - loss: 0.2608 - acc: 0.9400\n",
      "Epoch 34/100\n",
      "500/500 [==============================] - 0s 132us/step - loss: 0.2488 - acc: 0.9440\n",
      "Epoch 35/100\n",
      "500/500 [==============================] - 0s 106us/step - loss: 0.2371 - acc: 0.9640\n",
      "Epoch 36/100\n",
      "500/500 [==============================] - 0s 91us/step - loss: 0.2260 - acc: 0.9800\n",
      "Epoch 37/100\n",
      "500/500 [==============================] - 0s 124us/step - loss: 0.2161 - acc: 0.9860\n",
      "Epoch 38/100\n",
      "500/500 [==============================] - 0s 102us/step - loss: 0.2061 - acc: 0.9860\n",
      "Epoch 39/100\n",
      "500/500 [==============================] - 0s 105us/step - loss: 0.1968 - acc: 0.9900\n",
      "Epoch 40/100\n",
      "500/500 [==============================] - 0s 105us/step - loss: 0.1877 - acc: 0.9940\n",
      "Epoch 41/100\n",
      "500/500 [==============================] - 0s 94us/step - loss: 0.1794 - acc: 0.9940\n",
      "Epoch 42/100\n",
      "500/500 [==============================] - 0s 105us/step - loss: 0.1713 - acc: 0.9940\n",
      "Epoch 43/100\n",
      "500/500 [==============================] - 0s 96us/step - loss: 0.1637 - acc: 0.9960\n",
      "Epoch 44/100\n",
      "500/500 [==============================] - 0s 93us/step - loss: 0.1563 - acc: 0.9960\n",
      "Epoch 45/100\n",
      "500/500 [==============================] - 0s 98us/step - loss: 0.1493 - acc: 0.9960\n",
      "Epoch 46/100\n",
      "500/500 [==============================] - 0s 112us/step - loss: 0.1422 - acc: 0.9960\n",
      "Epoch 47/100\n",
      "500/500 [==============================] - 0s 108us/step - loss: 0.1354 - acc: 0.9960\n",
      "Epoch 48/100\n",
      "500/500 [==============================] - 0s 96us/step - loss: 0.1285 - acc: 0.9960\n",
      "Epoch 49/100\n",
      "500/500 [==============================] - 0s 94us/step - loss: 0.1214 - acc: 0.9960\n",
      "Epoch 50/100\n",
      "500/500 [==============================] - 0s 92us/step - loss: 0.1149 - acc: 0.9960\n",
      "Epoch 51/100\n",
      "500/500 [==============================] - 0s 107us/step - loss: 0.1083 - acc: 0.9960\n",
      "Epoch 52/100\n",
      "500/500 [==============================] - 0s 102us/step - loss: 0.1023 - acc: 0.9960\n",
      "Epoch 53/100\n",
      "500/500 [==============================] - 0s 101us/step - loss: 0.0967 - acc: 0.9960\n",
      "Epoch 54/100\n",
      "500/500 [==============================] - 0s 88us/step - loss: 0.0915 - acc: 0.9960\n",
      "Epoch 55/100\n",
      "500/500 [==============================] - 0s 84us/step - loss: 0.0868 - acc: 0.9960\n",
      "Epoch 56/100\n",
      "500/500 [==============================] - 0s 93us/step - loss: 0.0824 - acc: 0.9960\n",
      "Epoch 57/100\n",
      "500/500 [==============================] - 0s 94us/step - loss: 0.0784 - acc: 0.9980\n",
      "Epoch 58/100\n",
      "500/500 [==============================] - 0s 98us/step - loss: 0.0748 - acc: 0.9980\n",
      "Epoch 59/100\n",
      "500/500 [==============================] - 0s 95us/step - loss: 0.0714 - acc: 0.9980\n",
      "Epoch 60/100\n",
      "500/500 [==============================] - 0s 91us/step - loss: 0.0683 - acc: 0.9980\n",
      "Epoch 61/100\n",
      "500/500 [==============================] - 0s 90us/step - loss: 0.0654 - acc: 0.9980\n",
      "Epoch 62/100\n",
      "500/500 [==============================] - 0s 93us/step - loss: 0.0627 - acc: 0.9980\n",
      "Epoch 63/100\n",
      "500/500 [==============================] - 0s 88us/step - loss: 0.0602 - acc: 0.9980\n",
      "Epoch 64/100\n",
      "500/500 [==============================] - 0s 123us/step - loss: 0.0579 - acc: 0.9980\n",
      "Epoch 65/100\n",
      "500/500 [==============================] - 0s 101us/step - loss: 0.0557 - acc: 0.9980\n",
      "Epoch 66/100\n",
      "500/500 [==============================] - 0s 102us/step - loss: 0.0537 - acc: 0.9980\n",
      "Epoch 67/100\n",
      "500/500 [==============================] - 0s 114us/step - loss: 0.0518 - acc: 0.9980\n",
      "Epoch 68/100\n",
      "500/500 [==============================] - 0s 112us/step - loss: 0.0500 - acc: 0.9980\n",
      "Epoch 69/100\n",
      "500/500 [==============================] - 0s 87us/step - loss: 0.0484 - acc: 0.9980\n",
      "Epoch 70/100\n",
      "500/500 [==============================] - 0s 95us/step - loss: 0.0467 - acc: 0.9980\n",
      "Epoch 71/100\n",
      "500/500 [==============================] - 0s 92us/step - loss: 0.0453 - acc: 0.9980\n",
      "Epoch 72/100\n",
      "500/500 [==============================] - 0s 92us/step - loss: 0.0438 - acc: 0.9980\n",
      "Epoch 73/100\n",
      "500/500 [==============================] - 0s 113us/step - loss: 0.0425 - acc: 0.9980\n",
      "Epoch 74/100\n",
      "500/500 [==============================] - 0s 103us/step - loss: 0.0411 - acc: 0.9980\n",
      "Epoch 75/100\n",
      "500/500 [==============================] - 0s 90us/step - loss: 0.0399 - acc: 0.9980\n",
      "Epoch 76/100\n",
      "500/500 [==============================] - 0s 110us/step - loss: 0.0388 - acc: 0.9980\n",
      "Epoch 77/100\n",
      "500/500 [==============================] - 0s 114us/step - loss: 0.0377 - acc: 0.9980\n",
      "Epoch 78/100\n",
      "500/500 [==============================] - 0s 100us/step - loss: 0.0367 - acc: 0.9980\n",
      "Epoch 79/100\n",
      "500/500 [==============================] - 0s 100us/step - loss: 0.0356 - acc: 0.9980\n",
      "Epoch 80/100\n",
      "500/500 [==============================] - 0s 103us/step - loss: 0.0347 - acc: 0.9980\n",
      "Epoch 81/100\n",
      "500/500 [==============================] - 0s 86us/step - loss: 0.0340 - acc: 0.9980\n",
      "Epoch 82/100\n",
      "500/500 [==============================] - 0s 105us/step - loss: 0.0329 - acc: 0.9980\n",
      "Epoch 83/100\n",
      "500/500 [==============================] - 0s 95us/step - loss: 0.0321 - acc: 0.9980\n",
      "Epoch 84/100\n"
     ]
    },
    {
     "name": "stdout",
     "output_type": "stream",
     "text": [
      "500/500 [==============================] - 0s 221us/step - loss: 0.0312 - acc: 0.9980\n",
      "Epoch 85/100\n",
      "500/500 [==============================] - 0s 132us/step - loss: 0.0305 - acc: 0.9980\n",
      "Epoch 86/100\n",
      "500/500 [==============================] - 0s 130us/step - loss: 0.0298 - acc: 1.0000\n",
      "Epoch 87/100\n",
      "500/500 [==============================] - 0s 178us/step - loss: 0.0290 - acc: 1.0000\n",
      "Epoch 88/100\n",
      "500/500 [==============================] - 0s 109us/step - loss: 0.0283 - acc: 1.0000\n",
      "Epoch 89/100\n",
      "500/500 [==============================] - 0s 127us/step - loss: 0.0277 - acc: 1.0000\n",
      "Epoch 90/100\n",
      "500/500 [==============================] - 0s 137us/step - loss: 0.0270 - acc: 1.0000\n",
      "Epoch 91/100\n",
      "500/500 [==============================] - 0s 105us/step - loss: 0.0264 - acc: 1.0000\n",
      "Epoch 92/100\n",
      "500/500 [==============================] - 0s 112us/step - loss: 0.0259 - acc: 1.0000\n",
      "Epoch 93/100\n",
      "500/500 [==============================] - 0s 127us/step - loss: 0.0253 - acc: 1.0000\n",
      "Epoch 94/100\n",
      "500/500 [==============================] - 0s 102us/step - loss: 0.0247 - acc: 1.0000\n",
      "Epoch 95/100\n",
      "500/500 [==============================] - 0s 108us/step - loss: 0.0242 - acc: 1.0000\n",
      "Epoch 96/100\n",
      "500/500 [==============================] - 0s 109us/step - loss: 0.0237 - acc: 1.0000\n",
      "Epoch 97/100\n",
      "500/500 [==============================] - 0s 104us/step - loss: 0.0232 - acc: 1.0000\n",
      "Epoch 98/100\n",
      "500/500 [==============================] - 0s 129us/step - loss: 0.0227 - acc: 1.0000\n",
      "Epoch 99/100\n",
      "500/500 [==============================] - 0s 101us/step - loss: 0.0222 - acc: 1.0000\n",
      "Epoch 100/100\n",
      "500/500 [==============================] - 0s 108us/step - loss: 0.0217 - acc: 1.0000\n"
     ]
    }
   ],
   "source": [
    "h = model.fit(x=X,y=y,verbose=1,batch_size=20,epochs=100,\n",
    "          shuffle=True)"
   ]
  },
  {
   "cell_type": "code",
   "execution_count": 12,
   "metadata": {},
   "outputs": [
    {
     "data": {
      "text/plain": [
       "[<matplotlib.lines.Line2D at 0x7f2c2055dd68>]"
      ]
     },
     "execution_count": 12,
     "metadata": {},
     "output_type": "execute_result"
    },
    {
     "data": {
      "image/png": "[encoded data removed]",
      "text/plain": [
       "<Figure size 432x288 with 1 Axes>"
      ]
     },
     "metadata": {},
     "output_type": "display_data"
    }
   ],
   "source": [
    "plt.plot(h.history['acc'])"
   ]
  },
  {
   "cell_type": "code",
   "execution_count": 13,
   "metadata": {},
   "outputs": [
    {
     "data": {
      "text/plain": [
       "[<matplotlib.lines.Line2D at 0x7f2c204bf048>]"
      ]
     },
     "execution_count": 13,
     "metadata": {},
     "output_type": "execute_result"
    },
    {
     "data": {
      "image/png": "[encoded data removed]",
      "text/plain": [
       "<Figure size 432x288 with 1 Axes>"
      ]
     },
     "metadata": {},
     "output_type": "display_data"
    }
   ],
   "source": [
    "plt.plot(h.history['loss'])"
   ]
  },
  {
   "cell_type": "code",
   "execution_count": 14,
   "metadata": {},
   "outputs": [],
   "source": [
    "def plot_decision_boundary(X,y,model):\n",
    "    x_span = np.linspace(min(X[:,0])-0.25,max(X[:,0])+0.25,50)\n",
    "    y_span = np.linspace(min(X[:,1])-0.25,max(X[:,1])+0.25,50)\n",
    "    xx,yy = np.meshgrid(x_span,y_span)\n",
    "    xx_,yy_ = xx.ravel(),yy.ravel()\n",
    "    grid = np.c_[xx_,yy_]\n",
    "    pred_func = model.predict(grid)\n",
    "    z = pred_func.reshape(xx.shape)\n",
    "    plt.contourf(xx,yy,z)"
   ]
  },
  {
   "cell_type": "code",
   "execution_count": 15,
   "metadata": {},
   "outputs": [
    {
     "data": {
      "text/plain": [
       "array([[0.0251174]], dtype=float32)"
      ]
     },
     "execution_count": 15,
     "metadata": {},
     "output_type": "execute_result"
    },
    {
     "data": {
      "image/png": "[encoded data removed]",
      "text/plain": [
       "<Figure size 432x288 with 1 Axes>"
      ]
     },
     "metadata": {},
     "output_type": "display_data"
    }
   ],
   "source": [
    "plot_decision_boundary(X,y,model)\n",
    "plt.scatter(X[:n_pts,0], X[:n_pts,1])\n",
    "plt.scatter(X[n_pts:,0], X[n_pts:,1])\n",
    "\n",
    "x=0.1\n",
    "y=0.75\n",
    "point = np.array([[x,y]])\n",
    "prediction = model.predict(point)\n",
    "plt.plot([x],[y],marker='o',markersize=10,color='red')\n",
    "prediction"
   ]
  },
  {
   "cell_type": "markdown",
   "metadata": {},
   "source": [
    "# cross entropy and softmax"
   ]
  },
  {
   "cell_type": "code",
   "execution_count": 16,
   "metadata": {},
   "outputs": [],
   "source": [
    "import numpy as np\n",
    "import matplotlib.pyplot as plt \n",
    "from sklearn import datasets\n",
    "import keras\n",
    "from keras.models import Sequential\n",
    "from keras.layers import Dense\n",
    "from keras.optimizers import Adam\n",
    "from keras.utils.np_utils import to_categorical"
   ]
  },
  {
   "cell_type": "code",
   "execution_count": 25,
   "metadata": {},
   "outputs": [],
   "source": [
    "n_pts = 500\n",
    "centers = [[-1,1],[-1,-1],[1,-1],[1,1],[0,0]]\n",
    "X,y = datasets.make_blobs(n_samples=n_pts,random_state=123,\n",
    "                        centers=centers,cluster_std=0.4)"
   ]
  },
  {
   "cell_type": "code",
   "execution_count": 26,
   "metadata": {},
   "outputs": [
    {
     "data": {
      "text/plain": [
       "<matplotlib.collections.PathCollection at 0x7f2c187bd0b8>"
      ]
     },
     "execution_count": 26,
     "metadata": {},
     "output_type": "execute_result"
    },
    {
     "data": {
      "image/png": "[encoded data removed]",
      "text/plain": [
       "<Figure size 432x288 with 1 Axes>"
      ]
     },
     "metadata": {},
     "output_type": "display_data"
    }
   ],
   "source": [
    "plt.scatter(X[y==0,0],X[y==0,1])\n",
    "plt.scatter(X[y==1,0],X[y==1,1])\n",
    "plt.scatter(X[y==2,0],X[y==2,1])\n",
    "plt.scatter(X[y==3,0],X[y==3,1])\n",
    "plt.scatter(X[y==4,0],X[y==4,1])\n"
   ]
  },
  {
   "cell_type": "code",
   "execution_count": 27,
   "metadata": {},
   "outputs": [
    {
     "data": {
      "text/plain": [
       "array([[0., 0., 0., 1., 0.],\n",
       "       [0., 0., 0., 1., 0.],\n",
       "       [0., 0., 0., 0., 1.],\n",
       "       ...,\n",
       "       [0., 1., 0., 0., 0.],\n",
       "       [0., 0., 1., 0., 0.],\n",
       "       [0., 1., 0., 0., 0.]], dtype=float32)"
      ]
     },
     "execution_count": 27,
     "metadata": {},
     "output_type": "execute_result"
    }
   ],
   "source": [
    "y_cat = to_categorical(y,5)\n",
    "y_cat"
   ]
  },
  {
   "cell_type": "code",
   "execution_count": 28,
   "metadata": {},
   "outputs": [],
   "source": [
    "model = Sequential()\n",
    "model.add(Dense(units=5,input_shape=(2,),activation='softmax'))\n",
    "model.compile(Adam(0.1),loss='categorical_crossentropy',metrics=['accuracy'])\n"
   ]
  },
  {
   "cell_type": "code",
   "execution_count": 29,
   "metadata": {},
   "outputs": [
    {
     "name": "stdout",
     "output_type": "stream",
     "text": [
      "Epoch 1/100\n",
      "500/500 [==============================] - 0s 625us/step - loss: 1.3118 - acc: 0.4020\n",
      "Epoch 2/100\n",
      "500/500 [==============================] - 0s 59us/step - loss: 0.6489 - acc: 0.8320\n",
      "Epoch 3/100\n",
      "500/500 [==============================] - 0s 63us/step - loss: 0.4301 - acc: 0.8940\n",
      "Epoch 4/100\n",
      "500/500 [==============================] - 0s 60us/step - loss: 0.3419 - acc: 0.9260\n",
      "Epoch 5/100\n",
      "500/500 [==============================] - 0s 62us/step - loss: 0.2943 - acc: 0.9400\n",
      "Epoch 6/100\n",
      "500/500 [==============================] - 0s 55us/step - loss: 0.2692 - acc: 0.9420\n",
      "Epoch 7/100\n",
      "500/500 [==============================] - 0s 52us/step - loss: 0.2499 - acc: 0.9380\n",
      "Epoch 8/100\n",
      "500/500 [==============================] - 0s 68us/step - loss: 0.2362 - acc: 0.9380\n",
      "Epoch 9/100\n",
      "500/500 [==============================] - 0s 60us/step - loss: 0.2272 - acc: 0.9380\n",
      "Epoch 10/100\n",
      "500/500 [==============================] - 0s 66us/step - loss: 0.2188 - acc: 0.9400\n",
      "Epoch 11/100\n",
      "500/500 [==============================] - 0s 63us/step - loss: 0.2102 - acc: 0.9440\n",
      "Epoch 12/100\n",
      "500/500 [==============================] - 0s 62us/step - loss: 0.2043 - acc: 0.9440\n",
      "Epoch 13/100\n",
      "500/500 [==============================] - 0s 59us/step - loss: 0.1995 - acc: 0.9420\n",
      "Epoch 14/100\n",
      "500/500 [==============================] - 0s 52us/step - loss: 0.1954 - acc: 0.9460\n",
      "Epoch 15/100\n",
      "500/500 [==============================] - 0s 53us/step - loss: 0.1912 - acc: 0.9480\n",
      "Epoch 16/100\n",
      "500/500 [==============================] - 0s 46us/step - loss: 0.1879 - acc: 0.9480\n",
      "Epoch 17/100\n",
      "500/500 [==============================] - 0s 65us/step - loss: 0.1841 - acc: 0.9440\n",
      "Epoch 18/100\n",
      "500/500 [==============================] - 0s 61us/step - loss: 0.1825 - acc: 0.9440\n",
      "Epoch 19/100\n",
      "500/500 [==============================] - 0s 74us/step - loss: 0.1794 - acc: 0.9480\n",
      "Epoch 20/100\n",
      "500/500 [==============================] - 0s 64us/step - loss: 0.1770 - acc: 0.9480\n",
      "Epoch 21/100\n",
      "500/500 [==============================] - 0s 58us/step - loss: 0.1757 - acc: 0.9460\n",
      "Epoch 22/100\n",
      "500/500 [==============================] - 0s 72us/step - loss: 0.1744 - acc: 0.9440\n",
      "Epoch 23/100\n",
      "500/500 [==============================] - 0s 67us/step - loss: 0.1736 - acc: 0.9460\n",
      "Epoch 24/100\n",
      "500/500 [==============================] - 0s 61us/step - loss: 0.1709 - acc: 0.9500\n",
      "Epoch 25/100\n",
      "500/500 [==============================] - 0s 53us/step - loss: 0.1697 - acc: 0.9480\n",
      "Epoch 26/100\n",
      "500/500 [==============================] - 0s 67us/step - loss: 0.1699 - acc: 0.9460\n",
      "Epoch 27/100\n",
      "500/500 [==============================] - 0s 66us/step - loss: 0.1677 - acc: 0.9460\n",
      "Epoch 28/100\n",
      "500/500 [==============================] - 0s 74us/step - loss: 0.1656 - acc: 0.9500\n",
      "Epoch 29/100\n",
      "500/500 [==============================] - 0s 77us/step - loss: 0.1659 - acc: 0.9500\n",
      "Epoch 30/100\n",
      "500/500 [==============================] - 0s 65us/step - loss: 0.1643 - acc: 0.9480\n",
      "Epoch 31/100\n",
      "500/500 [==============================] - 0s 72us/step - loss: 0.1647 - acc: 0.9460\n",
      "Epoch 32/100\n",
      "500/500 [==============================] - 0s 58us/step - loss: 0.1626 - acc: 0.9500\n",
      "Epoch 33/100\n",
      "500/500 [==============================] - 0s 62us/step - loss: 0.1628 - acc: 0.9480\n",
      "Epoch 34/100\n",
      "500/500 [==============================] - 0s 63us/step - loss: 0.1608 - acc: 0.9480\n",
      "Epoch 35/100\n",
      "500/500 [==============================] - 0s 75us/step - loss: 0.1610 - acc: 0.9500\n",
      "Epoch 36/100\n",
      "500/500 [==============================] - 0s 67us/step - loss: 0.1606 - acc: 0.9480\n",
      "Epoch 37/100\n",
      "500/500 [==============================] - 0s 48us/step - loss: 0.1591 - acc: 0.9520\n",
      "Epoch 38/100\n",
      "500/500 [==============================] - 0s 40us/step - loss: 0.1594 - acc: 0.9500\n",
      "Epoch 39/100\n",
      "500/500 [==============================] - 0s 48us/step - loss: 0.1587 - acc: 0.9500\n",
      "Epoch 40/100\n",
      "500/500 [==============================] - 0s 38us/step - loss: 0.1589 - acc: 0.9460\n",
      "Epoch 41/100\n",
      "500/500 [==============================] - 0s 45us/step - loss: 0.1575 - acc: 0.9500\n",
      "Epoch 42/100\n",
      "500/500 [==============================] - 0s 59us/step - loss: 0.1583 - acc: 0.9460\n",
      "Epoch 43/100\n",
      "500/500 [==============================] - 0s 45us/step - loss: 0.1568 - acc: 0.9540\n",
      "Epoch 44/100\n",
      "500/500 [==============================] - 0s 45us/step - loss: 0.1565 - acc: 0.9480\n",
      "Epoch 45/100\n",
      "500/500 [==============================] - 0s 53us/step - loss: 0.1565 - acc: 0.9440\n",
      "Epoch 46/100\n",
      "500/500 [==============================] - 0s 46us/step - loss: 0.1592 - acc: 0.9420\n",
      "Epoch 47/100\n",
      "500/500 [==============================] - 0s 54us/step - loss: 0.1555 - acc: 0.9520\n",
      "Epoch 48/100\n",
      "500/500 [==============================] - 0s 48us/step - loss: 0.1561 - acc: 0.9500\n",
      "Epoch 49/100\n",
      "500/500 [==============================] - 0s 53us/step - loss: 0.1549 - acc: 0.9500\n",
      "Epoch 50/100\n",
      "500/500 [==============================] - 0s 43us/step - loss: 0.1555 - acc: 0.9480\n",
      "Epoch 51/100\n",
      "500/500 [==============================] - 0s 41us/step - loss: 0.1548 - acc: 0.9520\n",
      "Epoch 52/100\n",
      "500/500 [==============================] - 0s 44us/step - loss: 0.1552 - acc: 0.9500\n",
      "Epoch 53/100\n",
      "500/500 [==============================] - 0s 53us/step - loss: 0.1564 - acc: 0.9500\n",
      "Epoch 54/100\n",
      "500/500 [==============================] - 0s 45us/step - loss: 0.1537 - acc: 0.9500\n",
      "Epoch 55/100\n",
      "500/500 [==============================] - 0s 46us/step - loss: 0.1552 - acc: 0.9460\n",
      "Epoch 56/100\n",
      "500/500 [==============================] - 0s 46us/step - loss: 0.1545 - acc: 0.9460\n",
      "Epoch 57/100\n",
      "500/500 [==============================] - 0s 50us/step - loss: 0.1537 - acc: 0.9480\n",
      "Epoch 58/100\n",
      "500/500 [==============================] - 0s 52us/step - loss: 0.1551 - acc: 0.9520\n",
      "Epoch 59/100\n",
      "500/500 [==============================] - 0s 49us/step - loss: 0.1553 - acc: 0.9480\n",
      "Epoch 60/100\n",
      "500/500 [==============================] - 0s 46us/step - loss: 0.1532 - acc: 0.9520\n",
      "Epoch 61/100\n",
      "500/500 [==============================] - 0s 45us/step - loss: 0.1533 - acc: 0.9500\n",
      "Epoch 62/100\n",
      "500/500 [==============================] - 0s 57us/step - loss: 0.1524 - acc: 0.9520\n",
      "Epoch 63/100\n",
      "500/500 [==============================] - 0s 38us/step - loss: 0.1538 - acc: 0.9500\n",
      "Epoch 64/100\n",
      "500/500 [==============================] - 0s 48us/step - loss: 0.1538 - acc: 0.9500\n",
      "Epoch 65/100\n",
      "500/500 [==============================] - 0s 53us/step - loss: 0.1529 - acc: 0.9500\n",
      "Epoch 66/100\n",
      "500/500 [==============================] - 0s 62us/step - loss: 0.1519 - acc: 0.9520\n",
      "Epoch 67/100\n",
      "500/500 [==============================] - 0s 53us/step - loss: 0.1532 - acc: 0.9520\n",
      "Epoch 68/100\n",
      "500/500 [==============================] - 0s 52us/step - loss: 0.1527 - acc: 0.9500\n",
      "Epoch 69/100\n",
      "500/500 [==============================] - 0s 47us/step - loss: 0.1533 - acc: 0.9500\n",
      "Epoch 70/100\n",
      "500/500 [==============================] - 0s 45us/step - loss: 0.1528 - acc: 0.9440\n",
      "Epoch 71/100\n",
      "500/500 [==============================] - 0s 49us/step - loss: 0.1516 - acc: 0.9500\n",
      "Epoch 72/100\n",
      "500/500 [==============================] - 0s 49us/step - loss: 0.1539 - acc: 0.9500\n",
      "Epoch 73/100\n",
      "500/500 [==============================] - 0s 45us/step - loss: 0.1512 - acc: 0.9520\n",
      "Epoch 74/100\n",
      "500/500 [==============================] - 0s 42us/step - loss: 0.1530 - acc: 0.9500\n",
      "Epoch 75/100\n",
      "500/500 [==============================] - 0s 46us/step - loss: 0.1514 - acc: 0.9480\n",
      "Epoch 76/100\n",
      "500/500 [==============================] - 0s 46us/step - loss: 0.1518 - acc: 0.9500\n",
      "Epoch 77/100\n",
      "500/500 [==============================] - 0s 48us/step - loss: 0.1523 - acc: 0.9500\n",
      "Epoch 78/100\n",
      "500/500 [==============================] - 0s 45us/step - loss: 0.1527 - acc: 0.9500\n",
      "Epoch 79/100\n",
      "500/500 [==============================] - 0s 46us/step - loss: 0.1547 - acc: 0.9460\n",
      "Epoch 80/100\n",
      "500/500 [==============================] - 0s 43us/step - loss: 0.1516 - acc: 0.9520\n",
      "Epoch 81/100\n",
      "500/500 [==============================] - 0s 44us/step - loss: 0.1524 - acc: 0.9500\n",
      "Epoch 82/100\n",
      "500/500 [==============================] - 0s 50us/step - loss: 0.1524 - acc: 0.9540\n",
      "Epoch 83/100\n",
      "500/500 [==============================] - 0s 45us/step - loss: 0.1529 - acc: 0.9500\n",
      "Epoch 84/100\n"
     ]
    },
    {
     "name": "stdout",
     "output_type": "stream",
     "text": [
      "500/500 [==============================] - 0s 50us/step - loss: 0.1556 - acc: 0.9460\n",
      "Epoch 85/100\n",
      "500/500 [==============================] - 0s 46us/step - loss: 0.1535 - acc: 0.9500\n",
      "Epoch 86/100\n",
      "500/500 [==============================] - 0s 45us/step - loss: 0.1529 - acc: 0.9500\n",
      "Epoch 87/100\n",
      "500/500 [==============================] - 0s 54us/step - loss: 0.1515 - acc: 0.9500\n",
      "Epoch 88/100\n",
      "500/500 [==============================] - 0s 54us/step - loss: 0.1516 - acc: 0.9520\n",
      "Epoch 89/100\n",
      "500/500 [==============================] - 0s 47us/step - loss: 0.1520 - acc: 0.9500\n",
      "Epoch 90/100\n",
      "500/500 [==============================] - 0s 48us/step - loss: 0.1510 - acc: 0.9520\n",
      "Epoch 91/100\n",
      "500/500 [==============================] - 0s 47us/step - loss: 0.1532 - acc: 0.9480\n",
      "Epoch 92/100\n",
      "500/500 [==============================] - 0s 44us/step - loss: 0.1508 - acc: 0.9460\n",
      "Epoch 93/100\n",
      "500/500 [==============================] - 0s 52us/step - loss: 0.1516 - acc: 0.9520\n",
      "Epoch 94/100\n",
      "500/500 [==============================] - 0s 39us/step - loss: 0.1525 - acc: 0.9520\n",
      "Epoch 95/100\n",
      "500/500 [==============================] - 0s 44us/step - loss: 0.1555 - acc: 0.9480\n",
      "Epoch 96/100\n",
      "500/500 [==============================] - 0s 49us/step - loss: 0.1514 - acc: 0.9500\n",
      "Epoch 97/100\n",
      "500/500 [==============================] - 0s 57us/step - loss: 0.1512 - acc: 0.9480\n",
      "Epoch 98/100\n",
      "500/500 [==============================] - 0s 46us/step - loss: 0.1516 - acc: 0.9500\n",
      "Epoch 99/100\n",
      "500/500 [==============================] - 0s 46us/step - loss: 0.1526 - acc: 0.9540\n",
      "Epoch 100/100\n",
      "500/500 [==============================] - 0s 52us/step - loss: 0.1528 - acc: 0.9540\n"
     ]
    },
    {
     "data": {
      "text/plain": [
       "<keras.callbacks.History at 0x7f2c200e29e8>"
      ]
     },
     "execution_count": 29,
     "metadata": {},
     "output_type": "execute_result"
    }
   ],
   "source": [
    "model.fit(x=X,y=y_cat,verbose=1,batch_size=50,epochs=100)"
   ]
  },
  {
   "cell_type": "code",
   "execution_count": 30,
   "metadata": {},
   "outputs": [],
   "source": [
    "def plot_decision_boundary(X,y_cat,model):\n",
    "    x_span = np.linspace(min(X[:,0])-0.25,max(X[:,0])+0.25,50)\n",
    "    y_span = np.linspace(min(X[:,1])-0.25,max(X[:,1])+0.25,50)\n",
    "    xx,yy = np.meshgrid(x_span,y_span)\n",
    "    xx_,yy_ = xx.ravel(),yy.ravel()\n",
    "    grid = np.c_[xx_,yy_]\n",
    "    pred_func = model.predict_classes(grid)\n",
    "    z = pred_func.reshape(xx.shape)\n",
    "    plt.contourf(xx,yy,z) "
   ]
  },
  {
   "cell_type": "code",
   "execution_count": 32,
   "metadata": {},
   "outputs": [
    {
     "data": {
      "text/plain": [
       "array([3])"
      ]
     },
     "execution_count": 32,
     "metadata": {},
     "output_type": "execute_result"
    },
    {
     "data": {
      "image/png": "[encoded data removed]",
      "text/plain": [
       "<Figure size 432x288 with 1 Axes>"
      ]
     },
     "metadata": {},
     "output_type": "display_data"
    }
   ],
   "source": [
    "plot_decision_boundary(X,y_cat,model)\n",
    "plt.scatter(X[y==0,0],X[y==0,1])\n",
    "plt.scatter(X[y==1,0],X[y==1,1])\n",
    "plt.scatter(X[y==2,0],X[y==2,1])\n",
    "plt.scatter(X[y==3,0],X[y==3,1])\n",
    "plt.scatter(X[y==4,0],X[y==4,1])\n",
    "\n",
    "\n",
    "x=0.5\n",
    "y=0.5\n",
    "point = np.array([[x,y]])\n",
    "prediction = model.predict_classes(point)\n",
    "plt.plot([x],[y],marker='o',markersize=10,color='b')\n",
    "prediction\n",
    "\n",
    "# plt.scatter(X[y==0,0],X[y==0,1])\n",
    "# plt.scatter(X[y==1,0],X[y==1,1])\n",
    "# plt.scatter(X[y==2,0],X[y==2,1])\n"
   ]
  },
  {
   "cell_type": "code",
   "execution_count": null,
   "metadata": {},
   "outputs": [],
   "source": []
  }
 ],
 "metadata": {
  "kernelspec": {
   "display_name": "Python 3",
   "language": "python",
   "name": "python3"
  },
  "language_info": {
   "codemirror_mode": {
    "name": "ipython",
    "version": 3
   },
   "file_extension": ".py",
   "mimetype": "text/x-python",
   "name": "python",
   "nbconvert_exporter": "python",
   "pygments_lexer": "ipython3",
   "version": "3.6.5"
  }
 },
 "nbformat": 4,
 "nbformat_minor": 2
}
