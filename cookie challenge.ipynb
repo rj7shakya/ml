{
 "cells": [
  {
   "cell_type": "code",
   "execution_count": 1,
   "metadata": {},
   "outputs": [
    {
     "data": {
      "text/plain": [
       "[[1, 0, 0, 1, 0],\n",
       " [1, 1, 1, 0, 0],\n",
       " [0, 0, 1, 0, 1],\n",
       " [1, 0, 1, 0, 1],\n",
       " [1, 0, 1, 1, 0]]"
      ]
     },
     "execution_count": 1,
     "metadata": {},
     "output_type": "execute_result"
    }
   ],
   "source": [
    "c = [[1,0,0,1,0],\n",
    "     [1,1,1,0,0],\n",
    "     [0,0,1,0,1],\n",
    "     [1,0,1,0,1],\n",
    "     [1,0,1,1,0]]\n",
    "d = [[1,1],\n",
    "     [1,1]]\n",
    "c"
   ]
  },
  {
   "cell_type": "code",
   "execution_count": 2,
   "metadata": {},
   "outputs": [],
   "source": [
    "def trace():\n",
    "    l1=[]\n",
    "    l2=[]\n",
    "    for i in range(5):\n",
    "        for j in range(5):\n",
    "            while(1):\n",
    "                if(c[i][j]):\n",
    "                    if(c[i+1][j]):\n",
    "                        try:\n",
    "                            l1.append(i)\n",
    "                            l2.append(j)\n",
    "                        except :\n",
    "                            i=i-1\n",
    "           \n",
    "                    elif(c[i][j+1]):\n",
    "                        try:\n",
    "                            l1.append(i)\n",
    "                            l2.append(j)\n",
    "                        except:\n",
    "                            j=j-1\n",
    "                            print(l1)\n",
    "\n",
    "                else:\n",
    "                    j=j+1\n",
    "                    if(j ==5):\n",
    "                        j=5\n",
    "                        i=i+1\n",
    "                        if(i==5):\n",
    "                            return\n",
    "                    #check()\n",
    "                    #if(i<4 and j<4):\n",
    "                        \n",
    "    #print(l1)\n",
    "    return \n",
    "    "
   ]
  },
  {
   "cell_type": "code",
   "execution_count": 3,
   "metadata": {},
   "outputs": [],
   "source": [
    "# def check():\n",
    "#         if(c[i+1][j]):\n",
    "#             try:\n",
    "#                 l1.append(i)\n",
    "#                 l2.append(j)\n",
    "#             except :\n",
    "#                 i=i-1\n",
    "# #         elif(c[i-1][j]):\n",
    "# #             try:\n",
    "# #                 l1.append(i)\n",
    "# #                 l2.append(j)\n",
    "# #             except:\n",
    "# #                 i=i+1\n",
    "#         elif(c[i][j+1]):\n",
    "#             try:\n",
    "#                 l1.append(i)\n",
    "#                 l2.append(j)\n",
    "#             except:\n",
    "#                 j=j-1\n",
    "            \n",
    "#         return \n",
    "    "
   ]
  },
  {
   "cell_type": "code",
   "execution_count": null,
   "metadata": {},
   "outputs": [],
   "source": [
    "l3=[]\n",
    "trace()\n",
    "\n"
   ]
  },
  {
   "cell_type": "code",
   "execution_count": null,
   "metadata": {},
   "outputs": [],
   "source": []
  }
 ],
 "metadata": {
  "kernelspec": {
   "display_name": "Python 3",
   "language": "python",
   "name": "python3"
  },
  "language_info": {
   "codemirror_mode": {
    "name": "ipython",
    "version": 3
   },
   "file_extension": ".py",
   "mimetype": "text/x-python",
   "name": "python",
   "nbconvert_exporter": "python",
   "pygments_lexer": "ipython3",
   "version": "3.6.5"
  }
 },
 "nbformat": 4,
 "nbformat_minor": 2
}
